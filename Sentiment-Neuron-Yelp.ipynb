{
 "cells": [
  {
   "cell_type": "code",
   "execution_count": 1,
   "metadata": {
    "collapsed": false
   },
   "outputs": [],
   "source": [
    "from encoder import Model\n",
    "import pandas as pd\n",
    "import numpy as np\n",
    "import csv\n",
    "from sklearn.linear_model import LogisticRegression\n",
    "from sklearn.linear_model import SGDClassifier\n",
    "%load_ext autoreload\n",
    "%autoreload 2"
   ]
  },
  {
   "cell_type": "code",
   "execution_count": 2,
   "metadata": {
    "collapsed": false
   },
   "outputs": [],
   "source": [
    "model = Model()"
   ]
  },
  {
   "cell_type": "code",
   "execution_count": 3,
   "metadata": {
    "collapsed": false
   },
   "outputs": [],
   "source": [
    "train_reviews = []\n",
    "train_polarities = []\n",
    "with open('yelp_review_polarity_csv/train.csv', 'rb') as f:\n",
    "    reviews_with_polarity = list(csv.reader(f))\n",
    "    train_reviews = map(lambda x: x[1], reviews_with_polarity)\n",
    "    train_polarities = map(lambda x: int(x[0]), reviews_with_polarity)"
   ]
  },
  {
   "cell_type": "code",
   "execution_count": 4,
   "metadata": {
    "collapsed": false
   },
   "outputs": [],
   "source": [
    "test_reviews = []\n",
    "test_polarities = []\n",
    "with open('yelp_review_polarity_csv/test.csv', 'rb') as f:\n",
    "    reviews_with_polarity = list(csv.reader(f))\n",
    "    test_reviews = map(lambda x: x[1], reviews_with_polarity)\n",
    "    test_polarities = map(lambda x: int(x[0]), reviews_with_polarity)"
   ]
  },
  {
   "cell_type": "code",
   "execution_count": 5,
   "metadata": {
    "collapsed": true
   },
   "outputs": [],
   "source": [
    "def generate_batches(X, y, batch_size):\n",
    "    total_records = len(y)\n",
    "    num_batches = total_records/batch_size\n",
    "    for batch_num in range(num_batches):\n",
    "        yield X[batch_num * batch_size : (batch_num + 1) * batch_size], y[batch_num * batch_size : (batch_num + 1) * batch_size]"
   ]
  },
  {
   "cell_type": "code",
   "execution_count": 7,
   "metadata": {
    "collapsed": true
   },
   "outputs": [],
   "source": [
    "import time"
   ]
  },
  {
   "cell_type": "code",
   "execution_count": null,
   "metadata": {
    "collapsed": false
   },
   "outputs": [
    {
     "name": "stdout",
     "output_type": "stream",
     "text": [
      "iterating through each batch for step 0\n"
     ]
    }
   ],
   "source": [
    "start_time = time.time()\n",
    "X_test = model.transform(test_reviews)\n",
    "duration = time.time() - start_time"
   ]
  },
  {
   "cell_type": "code",
   "execution_count": null,
   "metadata": {
    "collapsed": false
   },
   "outputs": [],
   "source": [
    "# i = 0\n",
    "# lr = SGDClassifier(loss='log')\n",
    "# for batch in generate_batches(train_reviews, train_polarities, 64):\n",
    "#     X_train, y_train = batch\n",
    "#     X_train_transformed = [model.transform(review) for review in X_train]\n",
    "#     lr.partial_fit(X_train_transformed, y_train)"
   ]
  },
  {
   "cell_type": "code",
   "execution_count": null,
   "metadata": {
    "collapsed": false
   },
   "outputs": [],
   "source": [
    "# lr = LogisticRegression(C=0.1)\n",
    "# lr.fit(train_features, train_polarities)"
   ]
  },
  {
   "cell_type": "code",
   "execution_count": null,
   "metadata": {
    "collapsed": true
   },
   "outputs": [],
   "source": []
  }
 ],
 "metadata": {
  "kernelspec": {
   "display_name": "Python 2",
   "language": "python",
   "name": "python2"
  },
  "language_info": {
   "codemirror_mode": {
    "name": "ipython",
    "version": 2
   },
   "file_extension": ".py",
   "mimetype": "text/x-python",
   "name": "python",
   "nbconvert_exporter": "python",
   "pygments_lexer": "ipython2",
   "version": "2.7.12"
  }
 },
 "nbformat": 4,
 "nbformat_minor": 1
}
